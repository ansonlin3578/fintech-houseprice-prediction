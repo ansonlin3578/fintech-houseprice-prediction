{
 "cells": [
  {
   "cell_type": "code",
   "execution_count": 1,
   "metadata": {
    "_cell_guid": "b1076dfc-b9ad-4769-8c92-a6c4dae69d19",
    "_uuid": "8f2839f25d086af736a60e9eeb907d3b93b6e0e5",
    "execution": {
     "iopub.execute_input": "2021-11-27T05:55:10.841274Z",
     "iopub.status.busy": "2021-11-27T05:55:10.839894Z",
     "iopub.status.idle": "2021-11-27T05:55:11.903458Z",
     "shell.execute_reply": "2021-11-27T05:55:11.902291Z",
     "shell.execute_reply.started": "2021-11-27T05:55:10.841121Z"
    }
   },
   "outputs": [],
   "source": [
    "%matplotlib inline\n",
    "import numpy as np\n",
    "import pandas as pd\n",
    "import matplotlib.pyplot as plt\n",
    "import seaborn as sns\n",
    "import sklearn as skl\n",
    "import os\n",
    "\n",
    "\n",
    "# for dirname, _, filenames in os.walk('/kaggle/input'):\n",
    "#     for filename in filenames:\n",
    "#         print(os.path.join(dirname, filename))"
   ]
  },
  {
   "cell_type": "code",
   "execution_count": 2,
   "metadata": {
    "execution": {
     "iopub.execute_input": "2021-11-27T05:55:11.906148Z",
     "iopub.status.busy": "2021-11-27T05:55:11.905758Z",
     "iopub.status.idle": "2021-11-27T05:55:12.013255Z",
     "shell.execute_reply": "2021-11-27T05:55:12.012295Z",
     "shell.execute_reply.started": "2021-11-27T05:55:11.906101Z"
    }
   },
   "outputs": [
    {
     "name": "stdout",
     "output_type": "stream",
     "text": [
      "(1460, 80)\n",
      "(1459, 80)\n"
     ]
    },
    {
     "data": {
      "text/html": [
       "<div>\n",
       "<style scoped>\n",
       "    .dataframe tbody tr th:only-of-type {\n",
       "        vertical-align: middle;\n",
       "    }\n",
       "\n",
       "    .dataframe tbody tr th {\n",
       "        vertical-align: top;\n",
       "    }\n",
       "\n",
       "    .dataframe thead th {\n",
       "        text-align: right;\n",
       "    }\n",
       "</style>\n",
       "<table border=\"1\" class=\"dataframe\">\n",
       "  <thead>\n",
       "    <tr style=\"text-align: right;\">\n",
       "      <th></th>\n",
       "      <th>MSSubClass</th>\n",
       "      <th>MSZoning</th>\n",
       "      <th>LotFrontage</th>\n",
       "      <th>LotArea</th>\n",
       "      <th>Street</th>\n",
       "      <th>Alley</th>\n",
       "      <th>LotShape</th>\n",
       "      <th>LandContour</th>\n",
       "      <th>Utilities</th>\n",
       "      <th>LotConfig</th>\n",
       "      <th>...</th>\n",
       "      <th>PoolArea</th>\n",
       "      <th>PoolQC</th>\n",
       "      <th>Fence</th>\n",
       "      <th>MiscFeature</th>\n",
       "      <th>MiscVal</th>\n",
       "      <th>MoSold</th>\n",
       "      <th>YrSold</th>\n",
       "      <th>SaleType</th>\n",
       "      <th>SaleCondition</th>\n",
       "      <th>SalePrice</th>\n",
       "    </tr>\n",
       "    <tr>\n",
       "      <th>Id</th>\n",
       "      <th></th>\n",
       "      <th></th>\n",
       "      <th></th>\n",
       "      <th></th>\n",
       "      <th></th>\n",
       "      <th></th>\n",
       "      <th></th>\n",
       "      <th></th>\n",
       "      <th></th>\n",
       "      <th></th>\n",
       "      <th></th>\n",
       "      <th></th>\n",
       "      <th></th>\n",
       "      <th></th>\n",
       "      <th></th>\n",
       "      <th></th>\n",
       "      <th></th>\n",
       "      <th></th>\n",
       "      <th></th>\n",
       "      <th></th>\n",
       "      <th></th>\n",
       "    </tr>\n",
       "  </thead>\n",
       "  <tbody>\n",
       "    <tr>\n",
       "      <th>1</th>\n",
       "      <td>60</td>\n",
       "      <td>RL</td>\n",
       "      <td>65.0</td>\n",
       "      <td>8450</td>\n",
       "      <td>Pave</td>\n",
       "      <td>NaN</td>\n",
       "      <td>Reg</td>\n",
       "      <td>Lvl</td>\n",
       "      <td>AllPub</td>\n",
       "      <td>Inside</td>\n",
       "      <td>...</td>\n",
       "      <td>0</td>\n",
       "      <td>NaN</td>\n",
       "      <td>NaN</td>\n",
       "      <td>NaN</td>\n",
       "      <td>0</td>\n",
       "      <td>2</td>\n",
       "      <td>2008</td>\n",
       "      <td>WD</td>\n",
       "      <td>Normal</td>\n",
       "      <td>208500</td>\n",
       "    </tr>\n",
       "    <tr>\n",
       "      <th>2</th>\n",
       "      <td>20</td>\n",
       "      <td>RL</td>\n",
       "      <td>80.0</td>\n",
       "      <td>9600</td>\n",
       "      <td>Pave</td>\n",
       "      <td>NaN</td>\n",
       "      <td>Reg</td>\n",
       "      <td>Lvl</td>\n",
       "      <td>AllPub</td>\n",
       "      <td>FR2</td>\n",
       "      <td>...</td>\n",
       "      <td>0</td>\n",
       "      <td>NaN</td>\n",
       "      <td>NaN</td>\n",
       "      <td>NaN</td>\n",
       "      <td>0</td>\n",
       "      <td>5</td>\n",
       "      <td>2007</td>\n",
       "      <td>WD</td>\n",
       "      <td>Normal</td>\n",
       "      <td>181500</td>\n",
       "    </tr>\n",
       "  </tbody>\n",
       "</table>\n",
       "<p>2 rows × 80 columns</p>\n",
       "</div>"
      ],
      "text/plain": [
       "    MSSubClass MSZoning  LotFrontage  LotArea Street Alley LotShape  \\\n",
       "Id                                                                    \n",
       "1           60       RL         65.0     8450   Pave   NaN      Reg   \n",
       "2           20       RL         80.0     9600   Pave   NaN      Reg   \n",
       "\n",
       "   LandContour Utilities LotConfig  ... PoolArea PoolQC Fence MiscFeature  \\\n",
       "Id                                  ...                                     \n",
       "1          Lvl    AllPub    Inside  ...        0    NaN   NaN         NaN   \n",
       "2          Lvl    AllPub       FR2  ...        0    NaN   NaN         NaN   \n",
       "\n",
       "   MiscVal MoSold  YrSold  SaleType  SaleCondition  SalePrice  \n",
       "Id                                                             \n",
       "1        0      2    2008        WD         Normal     208500  \n",
       "2        0      5    2007        WD         Normal     181500  \n",
       "\n",
       "[2 rows x 80 columns]"
      ]
     },
     "execution_count": 2,
     "metadata": {},
     "output_type": "execute_result"
    }
   ],
   "source": [
    "train_path = r\"C:\\Users\\User\\Desktop\\碩一上修課資料\\金融科技\\final_project\\dataset\\train.csv\"\n",
    "test_path = r\"C:\\Users\\User\\Desktop\\碩一上修課資料\\金融科技\\final_project\\dataset\\test.csv\"\n",
    "\n",
    "df_train = pd.read_csv(train_path, index_col=0)\n",
    "df_test = pd.read_csv(test_path)\n",
    "print(df_train.shape)\n",
    "print(df_test.shape) #少了y\n",
    "df_train.head(2)"
   ]
  },
  {
   "cell_type": "code",
   "execution_count": 3,
   "metadata": {
    "execution": {
     "iopub.execute_input": "2021-11-27T05:55:12.015288Z",
     "iopub.status.busy": "2021-11-27T05:55:12.014956Z",
     "iopub.status.idle": "2021-11-27T05:55:12.025522Z",
     "shell.execute_reply": "2021-11-27T05:55:12.024432Z",
     "shell.execute_reply.started": "2021-11-27T05:55:12.015245Z"
    }
   },
   "outputs": [],
   "source": [
    "test_ID = df_test['Id']\n",
    "df_test.drop(\"Id\", axis = 1, inplace = True)"
   ]
  },
  {
   "cell_type": "markdown",
   "metadata": {},
   "source": [
    "# 分析目標"
   ]
  },
  {
   "cell_type": "code",
   "execution_count": 4,
   "metadata": {
    "execution": {
     "iopub.execute_input": "2021-11-27T05:55:12.028458Z",
     "iopub.status.busy": "2021-11-27T05:55:12.027756Z",
     "iopub.status.idle": "2021-11-27T05:55:12.041892Z",
     "shell.execute_reply": "2021-11-27T05:55:12.041118Z",
     "shell.execute_reply.started": "2021-11-27T05:55:12.028422Z"
    }
   },
   "outputs": [],
   "source": [
    "def Plot_Scatter(X, y, n_col=5):\n",
    "    n_col = 5\n",
    "    fig, axs = plt.subplots(int((X.shape[1])/n_col), n_col, sharey='row', figsize=(40,120))\n",
    "    axs = axs.ravel()\n",
    "    i=0\n",
    "    for col in X.columns[0:X.shape[1]-1]:\n",
    "        data1 = pd.concat([y, X[col]], axis=1).copy()\n",
    "    \n",
    "        if data1[col].hasnans:\n",
    "            if data1[col].dtype==object:\n",
    "                data1[col] = data1[col].fillna(\"None\")\n",
    "            else:\n",
    "                data1[col] = data1[col].fillna(0)\n",
    "        #data1.plot.scatter(x=col, y='SalePrice', ylim=(0,800000));\n",
    "        axs[i].scatter(x=data1[col], y=y);\n",
    "        axs[i].set_title(col)\n",
    "        \n",
    "        if data1[col].dtype==object:\n",
    "            axs[i].tick_params(rotation=290)\n",
    "            #plt.xticks(rotation=-290)\n",
    "        else:\n",
    "            pass\n",
    "            #plt.xticks(rotation=0)\n",
    "        i+=1\n",
    "        \n",
    "    plt.show()"
   ]
  },
  {
   "cell_type": "code",
   "execution_count": 5,
   "metadata": {
    "execution": {
     "iopub.execute_input": "2021-11-27T05:55:12.044021Z",
     "iopub.status.busy": "2021-11-27T05:55:12.043202Z",
     "iopub.status.idle": "2021-11-27T05:55:12.059Z",
     "shell.execute_reply": "2021-11-27T05:55:12.057978Z",
     "shell.execute_reply.started": "2021-11-27T05:55:12.043976Z"
    },
    "jupyter": {
     "source_hidden": true
    }
   },
   "outputs": [],
   "source": [
    "def Data_Analysing(df, df_y, verbose=0):  #verbose= 全不輸出->0  只輸出數據->1 輸出基本圖->2 輸出次要圖->3 全部輸出->4\n",
    "    from sklearn import preprocessing\n",
    "    print(\"樣本數:\", df.shape[0])\n",
    "    print(\"特徵數:\", df.shape[1])\n",
    "    print('\\n')\n",
    "    print(\"目標統計\")\n",
    "    if verbose>0:\n",
    "        pass\n",
    "        #print(df_y.describe())\n",
    "        \n",
    "    if verbose>1:\n",
    "        sns.histplot(df_y);\n",
    "        plt.show()\n",
    "        \n",
    "    n = 10\n",
    "    y_scaled = skl.preprocessing.StandardScaler().fit_transform(df_y)\n",
    "    low_range = y_scaled[y_scaled[:,0].argsort()][:n]\n",
    "    high_range= y_scaled[y_scaled[:,0].argsort()][-n:]\n",
    "\n",
    "    print(\"y偏度: %f\" % df_y.skew())\n",
    "    print(\"y峰度: %f\" % df_y.kurt())\n",
    "    print(\"y極低值範圍分布:\",  low_range.reshape(n))\n",
    "    print(\"y極高值範圍分布:\", high_range.reshape(n))\n",
    "    \n",
    "    print('\\n')\n",
    "    \n",
    "    if verbose>0:\n",
    "        print(\"MI統計\")\n",
    "        target = df_y.columns[0]\n",
    "        corrmat = df.corr()\n",
    "        k = 10 #number of variables for heatmap\n",
    "        cols = corrmat.nlargest(k, target)[target].index\n",
    "        print(\"MI最大的前{}名:\".format(k), [col for col in cols])  #未完成\n",
    "    if verbose>2:\n",
    "        f, ax = plt.subplots(figsize=(9, 9))\n",
    "        sns.heatmap(corrmat, vmax=.8, square=True);  #全heat map\n",
    "        plt.show()\n",
    "    if verbose>1:\n",
    "        \n",
    "        cm = np.corrcoef(df_train[cols].values.T)\n",
    "        sns.set(font_scale=1.25)\n",
    "        hm = sns.heatmap(cm, cbar=True, annot=True, square=True, fmt='.2f', annot_kws={'size': 10}, yticklabels=cols.values, xticklabels=cols.values);  #部分heat map\n",
    "        plt.show()\n",
    "    if verbose>3:\n",
    "        sns.set()\n",
    "        #cols = ['SalePrice', 'OverallQual', 'GrLivArea', 'GarageCars', 'TotalBsmtSF', 'FullBath', 'YearBuilt']\n",
    "        sns.pairplot(df_train[cols], height = 2.5);\n",
    "        plt.show()\n",
    "        "
   ]
  },
  {
   "cell_type": "code",
   "execution_count": 6,
   "metadata": {
    "execution": {
     "iopub.execute_input": "2021-11-27T05:55:12.061277Z",
     "iopub.status.busy": "2021-11-27T05:55:12.060731Z",
     "iopub.status.idle": "2021-11-27T05:55:12.112554Z",
     "shell.execute_reply": "2021-11-27T05:55:12.111464Z",
     "shell.execute_reply.started": "2021-11-27T05:55:12.061228Z"
    },
    "jupyter": {
     "source_hidden": true
    }
   },
   "outputs": [
    {
     "name": "stdout",
     "output_type": "stream",
     "text": [
      "樣本數: 1460\n",
      "特徵數: 80\n",
      "\n",
      "\n",
      "目標統計\n",
      "y偏度: 1.882876\n",
      "y峰度: 6.536282\n",
      "y極低值範圍分布: [-1.83870376 -1.83352844 -1.80092766 -1.78329881 -1.77448439 -1.62337999\n",
      " -1.61708398 -1.58560389 -1.58560389 -1.5731    ]\n",
      "y極高值範圍分布: [3.82897043 4.04098249 4.49634819 4.71041276 4.73032076 5.06214602\n",
      " 5.42383959 5.59185509 7.10289909 7.22881942]\n",
      "\n",
      "\n"
     ]
    }
   ],
   "source": [
    "Data_Analysing(df_train, pd.DataFrame(df_train['SalePrice']), verbose=0)\n",
    "#Plot_Scatter(df_train, df_train['SalePrice'])"
   ]
  },
  {
   "cell_type": "markdown",
   "metadata": {},
   "source": [
    "分析完畢! 接著進行數據的處理"
   ]
  },
  {
   "cell_type": "markdown",
   "metadata": {},
   "source": [
    "# 數據處理\n",
    "附註:\n",
    "1. 由於有時間性數據，有餘裕可考慮通膨"
   ]
  },
  {
   "cell_type": "code",
   "execution_count": 7,
   "metadata": {
    "execution": {
     "iopub.execute_input": "2021-11-27T05:55:12.114618Z",
     "iopub.status.busy": "2021-11-27T05:55:12.114201Z",
     "iopub.status.idle": "2021-11-27T05:55:12.123262Z",
     "shell.execute_reply": "2021-11-27T05:55:12.122529Z",
     "shell.execute_reply.started": "2021-11-27T05:55:12.114577Z"
    }
   },
   "outputs": [
    {
     "name": "stdout",
     "output_type": "stream",
     "text": [
      "Int64Index([1299, 524], dtype='int64', name='Id')\n"
     ]
    }
   ],
   "source": [
    "#deleting sample\n",
    "outlier = df_train.sort_values(by = 'GrLivArea', ascending = False)[:2].index\n",
    "#outlier.append(df_train.sort_values(by = 'LotFrontage', ascending = False)[:2].index)\n",
    "#outlier.append(df_train.sort_values(by = 'LotArea', ascending = False)[:4].index)\n",
    "print(outlier)"
   ]
  },
  {
   "cell_type": "code",
   "execution_count": 8,
   "metadata": {
    "execution": {
     "iopub.execute_input": "2021-11-27T05:55:12.125209Z",
     "iopub.status.busy": "2021-11-27T05:55:12.124713Z",
     "iopub.status.idle": "2021-11-27T05:55:12.141723Z",
     "shell.execute_reply": "2021-11-27T05:55:12.140868Z",
     "shell.execute_reply.started": "2021-11-27T05:55:12.125177Z"
    }
   },
   "outputs": [
    {
     "name": "stdout",
     "output_type": "stream",
     "text": [
      "deleted\n"
     ]
    }
   ],
   "source": [
    "try:\n",
    "    df_train = df_train.drop(index=df_train.sort_values(by = 'GrLivArea', ascending = False)[:2].index)\n",
    "    #df_train = df_train.drop(index=524)\n",
    "    print(\"deleted\")\n",
    "except:\n",
    "    print(\"points has been deleted\")"
   ]
  },
  {
   "cell_type": "markdown",
   "metadata": {},
   "source": [
    "常態性處理  \n",
    "這裡以非常精簡的方式測試“SalePrice”。注意兩點：  \n",
    "1. 直方圖 - 峰度和偏度。\n",
    "2. 常態機率圖 - 數據分佈應緊貼代表常態分佈的對角線。"
   ]
  },
  {
   "cell_type": "markdown",
   "metadata": {},
   "source": [
    "'SalePrice'並不常態。有個峰值、正偏度且不遵循常態分佈對角線。\n",
    "\n",
    "但還沒有亂掉，簡單的數據轉換就可以解決這個問題。在正偏度的情況下，對數轉換通常效果很好。"
   ]
  },
  {
   "cell_type": "code",
   "execution_count": 9,
   "metadata": {
    "execution": {
     "iopub.execute_input": "2021-11-27T05:55:12.144507Z",
     "iopub.status.busy": "2021-11-27T05:55:12.143725Z",
     "iopub.status.idle": "2021-11-27T05:55:12.952589Z",
     "shell.execute_reply": "2021-11-27T05:55:12.951466Z",
     "shell.execute_reply.started": "2021-11-27T05:55:12.144454Z"
    }
   },
   "outputs": [
    {
     "data": {
      "image/png": "[encoded data removed]",
      "text/plain": [
       "<Figure size 360x360 with 1 Axes>"
      ]
     },
     "metadata": {
      "needs_background": "light"
     },
     "output_type": "display_data"
    },
    {
     "data": {
      "image/png": "[encoded data removed]",
      "text/plain": [
       "<Figure size 432x288 with 1 Axes>"
      ]
     },
     "metadata": {
      "needs_background": "light"
     },
     "output_type": "display_data"
    }
   ],
   "source": [
    "from scipy.stats import norm\n",
    "from scipy import stats\n",
    "\n",
    "df_train_norm = df_train.copy()\n",
    "df_train_norm['SalePrice'] = np.log(df_train['SalePrice'])\n",
    "\n",
    "sns.displot(df_train_norm['SalePrice'], kde=True);\n",
    "fig = plt.figure()\n",
    "res = stats.probplot(df_train_norm['SalePrice'], plot=plt)"
   ]
  },
  {
   "cell_type": "markdown",
   "metadata": {},
   "source": [
    "以下進行缺失補值，在此訓練集和測試集一同處理比較方便"
   ]
  },
  {
   "cell_type": "code",
   "execution_count": 10,
   "metadata": {
    "execution": {
     "iopub.execute_input": "2021-11-27T05:55:12.956081Z",
     "iopub.status.busy": "2021-11-27T05:55:12.95575Z",
     "iopub.status.idle": "2021-11-27T05:55:12.986672Z",
     "shell.execute_reply": "2021-11-27T05:55:12.985791Z",
     "shell.execute_reply.started": "2021-11-27T05:55:12.956047Z"
    }
   },
   "outputs": [
    {
     "name": "stdout",
     "output_type": "stream",
     "text": [
      "all_data size is : (2917, 79)\n"
     ]
    }
   ],
   "source": [
    "ntrain = df_train_norm.shape[0]\n",
    "ntest = df_test.shape[0]\n",
    "y_train = df_train_norm.SalePrice.values\n",
    "df = pd.concat((df_train_norm, df_test)).reset_index(drop=True)\n",
    "df.drop(['SalePrice'], axis=1, inplace=True)\n",
    "print(\"all_data size is : {}\".format(df.shape))"
   ]
  },
  {
   "cell_type": "markdown",
   "metadata": {},
   "source": [
    "數據格式:\n",
    "有些特徵明明是類別，卻以數值紀錄，要對它做轉換"
   ]
  },
  {
   "cell_type": "code",
   "execution_count": 11,
   "metadata": {
    "execution": {
     "iopub.execute_input": "2021-11-27T05:55:12.988711Z",
     "iopub.status.busy": "2021-11-27T05:55:12.987971Z",
     "iopub.status.idle": "2021-11-27T05:55:13.005013Z",
     "shell.execute_reply": "2021-11-27T05:55:13.004245Z",
     "shell.execute_reply.started": "2021-11-27T05:55:12.988666Z"
    }
   },
   "outputs": [],
   "source": [
    "df['MSSubClass'] = df['MSSubClass'].apply(str)\n",
    "\n",
    "\n",
    "df['OverallCond'] = df['OverallCond'].astype(str)\n",
    "\n",
    "df['YrSold'] = df['YrSold'].astype(str)\n",
    "df['MoSold'] = df['MoSold'].astype(str)"
   ]
  },
  {
   "cell_type": "markdown",
   "metadata": {},
   "source": [
    "處理缺失值，有幾點需要考慮:\n",
    "1. 缺失值有多少?\n",
    "2. 缺失值是隨機的? 還是代表某種資訊?\n",
    "如何看待這件事很重要，因為缺少的值會讓我們能分析的事變少，而且處理缺失值的手法也不能偏離真相"
   ]
  },
  {
   "cell_type": "code",
   "execution_count": 12,
   "metadata": {
    "execution": {
     "iopub.execute_input": "2021-11-27T05:55:13.007177Z",
     "iopub.status.busy": "2021-11-27T05:55:13.006575Z",
     "iopub.status.idle": "2021-11-27T05:55:13.062253Z",
     "shell.execute_reply": "2021-11-27T05:55:13.061109Z",
     "shell.execute_reply.started": "2021-11-27T05:55:13.007122Z"
    }
   },
   "outputs": [
    {
     "data": {
      "text/html": [
       "<div>\n",
       "<style scoped>\n",
       "    .dataframe tbody tr th:only-of-type {\n",
       "        vertical-align: middle;\n",
       "    }\n",
       "\n",
       "    .dataframe tbody tr th {\n",
       "        vertical-align: top;\n",
       "    }\n",
       "\n",
       "    .dataframe thead th {\n",
       "        text-align: right;\n",
       "    }\n",
       "</style>\n",
       "<table border=\"1\" class=\"dataframe\">\n",
       "  <thead>\n",
       "    <tr style=\"text-align: right;\">\n",
       "      <th></th>\n",
       "      <th>PoolQC</th>\n",
       "      <th>MiscFeature</th>\n",
       "      <th>Alley</th>\n",
       "      <th>Fence</th>\n",
       "      <th>FireplaceQu</th>\n",
       "      <th>LotFrontage</th>\n",
       "      <th>GarageCond</th>\n",
       "      <th>GarageQual</th>\n",
       "      <th>GarageYrBlt</th>\n",
       "      <th>GarageFinish</th>\n",
       "      <th>GarageType</th>\n",
       "      <th>BsmtCond</th>\n",
       "      <th>BsmtExposure</th>\n",
       "      <th>BsmtQual</th>\n",
       "      <th>BsmtFinType2</th>\n",
       "      <th>BsmtFinType1</th>\n",
       "      <th>MasVnrType</th>\n",
       "      <th>MasVnrArea</th>\n",
       "      <th>MSZoning</th>\n",
       "      <th>BsmtHalfBath</th>\n",
       "    </tr>\n",
       "  </thead>\n",
       "  <tbody>\n",
       "    <tr>\n",
       "      <th>Total</th>\n",
       "      <td>2908.000000</td>\n",
       "      <td>2812.000000</td>\n",
       "      <td>2719.000000</td>\n",
       "      <td>2346.000000</td>\n",
       "      <td>1420.000000</td>\n",
       "      <td>486.00000</td>\n",
       "      <td>159.000000</td>\n",
       "      <td>159.000000</td>\n",
       "      <td>159.000000</td>\n",
       "      <td>159.000000</td>\n",
       "      <td>157.000000</td>\n",
       "      <td>82.000000</td>\n",
       "      <td>82.000000</td>\n",
       "      <td>81.000000</td>\n",
       "      <td>80.000000</td>\n",
       "      <td>79.000000</td>\n",
       "      <td>24.000000</td>\n",
       "      <td>23.000000</td>\n",
       "      <td>4.000000</td>\n",
       "      <td>2.000000</td>\n",
       "    </tr>\n",
       "    <tr>\n",
       "      <th>Percent</th>\n",
       "      <td>0.996915</td>\n",
       "      <td>0.964004</td>\n",
       "      <td>0.932122</td>\n",
       "      <td>0.804251</td>\n",
       "      <td>0.486802</td>\n",
       "      <td>0.16661</td>\n",
       "      <td>0.054508</td>\n",
       "      <td>0.054508</td>\n",
       "      <td>0.054508</td>\n",
       "      <td>0.054508</td>\n",
       "      <td>0.053822</td>\n",
       "      <td>0.028111</td>\n",
       "      <td>0.028111</td>\n",
       "      <td>0.027768</td>\n",
       "      <td>0.027425</td>\n",
       "      <td>0.027083</td>\n",
       "      <td>0.008228</td>\n",
       "      <td>0.007885</td>\n",
       "      <td>0.001371</td>\n",
       "      <td>0.000686</td>\n",
       "    </tr>\n",
       "  </tbody>\n",
       "</table>\n",
       "</div>"
      ],
      "text/plain": [
       "              PoolQC  MiscFeature        Alley        Fence  FireplaceQu  \\\n",
       "Total    2908.000000  2812.000000  2719.000000  2346.000000  1420.000000   \n",
       "Percent     0.996915     0.964004     0.932122     0.804251     0.486802   \n",
       "\n",
       "         LotFrontage  GarageCond  GarageQual  GarageYrBlt  GarageFinish  \\\n",
       "Total      486.00000  159.000000  159.000000   159.000000    159.000000   \n",
       "Percent      0.16661    0.054508    0.054508     0.054508      0.054508   \n",
       "\n",
       "         GarageType   BsmtCond  BsmtExposure   BsmtQual  BsmtFinType2  \\\n",
       "Total    157.000000  82.000000     82.000000  81.000000     80.000000   \n",
       "Percent    0.053822   0.028111      0.028111   0.027768      0.027425   \n",
       "\n",
       "         BsmtFinType1  MasVnrType  MasVnrArea  MSZoning  BsmtHalfBath  \n",
       "Total       79.000000   24.000000   23.000000  4.000000      2.000000  \n",
       "Percent      0.027083    0.008228    0.007885  0.001371      0.000686  "
      ]
     },
     "execution_count": 12,
     "metadata": {},
     "output_type": "execute_result"
    }
   ],
   "source": [
    "total = df.isnull().sum().sort_values(ascending=False)\n",
    "miss_percent = (df.isnull().sum()/df.isnull().count()).sort_values(ascending=False)\n",
    "missing_data = pd.concat([total, miss_percent], axis=1, keys=['Total', 'Percent'])\n",
    "missing_data.head(20).T"
   ]
  },
  {
   "cell_type": "markdown",
   "metadata": {
    "execution": {
     "iopub.execute_input": "2021-10-29T08:31:54.269207Z",
     "iopub.status.busy": "2021-10-29T08:31:54.268736Z",
     "iopub.status.idle": "2021-10-29T08:31:54.275435Z",
     "shell.execute_reply": "2021-10-29T08:31:54.274412Z",
     "shell.execute_reply.started": "2021-10-29T08:31:54.269163Z"
    }
   },
   "source": [
    "通常，當一種特徵有超過15%遺失時，我們會考慮去掉，假裝它不存在，好讓我們不用煩惱該如何填充。   至於15%以下的，如果有其他Feature可以替代者，也可刪掉(例如Garage系列特徵都可由GarageCars取代)  \n",
    "當然我們也可以逐一分析，擬定該如何進行填充。"
   ]
  },
  {
   "cell_type": "code",
   "execution_count": 13,
   "metadata": {
    "execution": {
     "iopub.execute_input": "2021-11-27T05:55:13.064336Z",
     "iopub.status.busy": "2021-11-27T05:55:13.064058Z",
     "iopub.status.idle": "2021-11-27T05:55:13.096256Z",
     "shell.execute_reply": "2021-11-27T05:55:13.095347Z",
     "shell.execute_reply.started": "2021-11-27T05:55:13.064307Z"
    }
   },
   "outputs": [
    {
     "name": "stdout",
     "output_type": "stream",
     "text": [
      "col has been dropped\n",
      "缺失值: 0\n"
     ]
    },
    {
     "data": {
      "text/html": [
       "<div>\n",
       "<style scoped>\n",
       "    .dataframe tbody tr th:only-of-type {\n",
       "        vertical-align: middle;\n",
       "    }\n",
       "\n",
       "    .dataframe tbody tr th {\n",
       "        vertical-align: top;\n",
       "    }\n",
       "\n",
       "    .dataframe thead th {\n",
       "        text-align: right;\n",
       "    }\n",
       "</style>\n",
       "<table border=\"1\" class=\"dataframe\">\n",
       "  <thead>\n",
       "    <tr style=\"text-align: right;\">\n",
       "      <th></th>\n",
       "      <th>Missing Ratio</th>\n",
       "    </tr>\n",
       "  </thead>\n",
       "  <tbody>\n",
       "  </tbody>\n",
       "</table>\n",
       "</div>"
      ],
      "text/plain": [
       "Empty DataFrame\n",
       "Columns: [Missing Ratio]\n",
       "Index: []"
      ]
     },
     "execution_count": 13,
     "metadata": {},
     "output_type": "execute_result"
    }
   ],
   "source": [
    "#暴力法\n",
    "drop_col = missing_data[missing_data['Total']> 0]\n",
    "try:\n",
    "    df_brutal_NA = df.drop(labels=drop_col.index,axis=1, inplace=False).copy()\n",
    "    df_brutal_NA = df_brutal_NA.drop(labels=df_brutal_NA.loc[df_brutal_NA['Electrical'].isnull()].index)\n",
    "except:\n",
    "    print(\"col has been dropped\")\n",
    "    pass\n",
    "\n",
    "print(\"缺失值:\",df_brutal_NA.isnull().sum().max()) #確認已無缺失值\n",
    "all_data_na = (df_brutal_NA.isnull().sum() / len(df_brutal_NA)) * 100\n",
    "all_data_na = all_data_na.drop(all_data_na[all_data_na == 0].index).sort_values(ascending=False)\n",
    "missing_col = pd.DataFrame({'Missing Ratio' :all_data_na})\n",
    "missing_col.head()"
   ]
  },
  {
   "cell_type": "code",
   "execution_count": 14,
   "metadata": {
    "execution": {
     "iopub.execute_input": "2021-11-27T05:55:13.098407Z",
     "iopub.status.busy": "2021-11-27T05:55:13.098046Z",
     "iopub.status.idle": "2021-11-27T05:55:13.172358Z",
     "shell.execute_reply": "2021-11-27T05:55:13.17139Z",
     "shell.execute_reply.started": "2021-11-27T05:55:13.098366Z"
    }
   },
   "outputs": [
    {
     "name": "stdout",
     "output_type": "stream",
     "text": [
      "缺失值: 0\n"
     ]
    },
    {
     "data": {
      "text/html": [
       "<div>\n",
       "<style scoped>\n",
       "    .dataframe tbody tr th:only-of-type {\n",
       "        vertical-align: middle;\n",
       "    }\n",
       "\n",
       "    .dataframe tbody tr th {\n",
       "        vertical-align: top;\n",
       "    }\n",
       "\n",
       "    .dataframe thead th {\n",
       "        text-align: right;\n",
       "    }\n",
       "</style>\n",
       "<table border=\"1\" class=\"dataframe\">\n",
       "  <thead>\n",
       "    <tr style=\"text-align: right;\">\n",
       "      <th></th>\n",
       "      <th>Missing Ratio</th>\n",
       "    </tr>\n",
       "  </thead>\n",
       "  <tbody>\n",
       "  </tbody>\n",
       "</table>\n",
       "</div>"
      ],
      "text/plain": [
       "Empty DataFrame\n",
       "Columns: [Missing Ratio]\n",
       "Index: []"
      ]
     },
     "execution_count": 14,
     "metadata": {},
     "output_type": "execute_result"
    }
   ],
   "source": [
    "#逐一分析法\n",
    "df_wise_NA = df.copy()\n",
    "df_wise_NA[\"PoolQC\"] = df_wise_NA[\"PoolQC\"].fillna(\"None\")  #泳池，且該特徵為類別特徵 因此填None\n",
    "df_wise_NA[\"MiscFeature\"] = df_wise_NA[\"MiscFeature\"].fillna(\"None\")  #額外設施 同上\n",
    "df_wise_NA[\"Alley\"] = df_wise_NA[\"Alley\"].fillna(\"None\")  # 小道鋪面 同上\n",
    "df_wise_NA[\"Fence\"] = df_wise_NA[\"Fence\"].fillna(\"None\")  #柵欄隱私度 同上\n",
    "df_wise_NA[\"FireplaceQu\"] = df_wise_NA[\"FireplaceQu\"].fillna(\"None\")  #壁爐品質 同上\n",
    "df_wise_NA[\"LotFrontage\"] = df_wise_NA.groupby(\"Neighborhood\")[\"LotFrontage\"].transform(lambda x: x.fillna(x.median()))  #這就要小心了，該特徵為與房子相連的街道長，由於每個房子可能都差不多，因此Na填入中值\n",
    "\n",
    "for col in ('GarageType', 'GarageFinish', 'GarageQual', 'GarageCond'):  #車庫相關的類別特徵 沒車庫的會是None\n",
    "    df_wise_NA[col] = df_wise_NA[col].fillna('None') \n",
    "\n",
    "for col in ('GarageYrBlt', 'GarageArea', 'GarageCars'):  #車庫相關的數值特徵 沒車庫的會是0\n",
    "    df_wise_NA[col] = df_wise_NA[col].fillna(0)  \n",
    "\n",
    "for col in ('BsmtQual', 'BsmtCond', 'BsmtExposure', 'BsmtFinType1', 'BsmtFinType2'):  #地下室相關的類別特徵 沒有的會是None\n",
    "    df_wise_NA[col] = df_wise_NA[col].fillna('None')  \n",
    "\n",
    "for col in ('BsmtFinSF1', 'BsmtFinSF2', 'BsmtUnfSF','TotalBsmtSF', 'BsmtFullBath', 'BsmtHalfBath'):  #地下室相關的數值特徵 沒有的會是0\n",
    "    df_wise_NA[col] = df_wise_NA[col].fillna(0)\n",
    "    \n",
    "df_wise_NA[\"MasVnrType\"] = df_wise_NA[\"MasVnrType\"].fillna(\"None\")  #房屋飾面種類 類別特徵，沒有的會是None\n",
    "df_wise_NA[\"MasVnrArea\"] = df_wise_NA[\"MasVnrArea\"].fillna(0)  #房屋飾面面積 數值特徵，沒有的會是0\n",
    "df_wise_NA['Electrical'] = df_wise_NA['Electrical'].fillna(df_wise_NA['Electrical'].mode()[0])    #關於電力系統 類別特徵 缺失值填為電力系統該有的功能:\"SBrkr\"\n",
    "df_wise_NA['MSZoning'] = df_wise_NA['MSZoning'].fillna(df_wise_NA['MSZoning'].mode()[0])  #關於建地類別 類別特徵 填眾數\n",
    "df_wise_NA = df_wise_NA.drop(['Utilities'], axis=1)  #該缺失值只在測試集出現，且在訓練集中大家都一樣(一例例外)，所以該特徵是冗於特徵，可去除\n",
    "df_wise_NA[\"Functional\"] = df_wise_NA[\"Functional\"].fillna(\"Typ\")  #數據說明表示Na即為\"Typ\"\n",
    "\n",
    "df_wise_NA['Exterior1st'] = df_wise_NA['Exterior1st'].fillna(df_wise_NA['Exterior1st'].mode()[0])  #外牆裝飾 類別特徵 填眾數\n",
    "df_wise_NA['Exterior2nd'] = df_wise_NA['Exterior2nd'].fillna(df_wise_NA['Exterior2nd'].mode()[0])  #外牆裝飾 類別特徵 填眾數\n",
    "df_wise_NA['KitchenQual'] = df_wise_NA['KitchenQual'].fillna(df_wise_NA['KitchenQual'].mode()[0])  #廚房品質 類別特徵 填眾數\n",
    "df_wise_NA['SaleType'] = df_wise_NA['SaleType'].fillna(df_wise_NA['SaleType'].mode()[0])  #出售類別 類別特徵 填眾數\n",
    "\n",
    "#最後確認還有沒有遺失值\n",
    "print(\"缺失值:\",df_wise_NA.isnull().sum().max()) #確認已無缺失值\n",
    "all_data_na = (df_wise_NA.isnull().sum() / len(df_wise_NA)) * 100\n",
    "all_data_na = all_data_na.drop(all_data_na[all_data_na == 0].index).sort_values(ascending=False)\n",
    "missing_col = pd.DataFrame({'Missing Ratio' :all_data_na})\n",
    "missing_col.head()"
   ]
  },
  {
   "cell_type": "markdown",
   "metadata": {},
   "source": [
    "Featrue Encoding"
   ]
  },
  {
   "cell_type": "code",
   "execution_count": 15,
   "metadata": {
    "execution": {
     "iopub.execute_input": "2021-11-27T05:55:13.174407Z",
     "iopub.status.busy": "2021-11-27T05:55:13.173764Z",
     "iopub.status.idle": "2021-11-27T05:55:13.280698Z",
     "shell.execute_reply": "2021-11-27T05:55:13.27981Z",
     "shell.execute_reply.started": "2021-11-27T05:55:13.17436Z"
    }
   },
   "outputs": [
    {
     "name": "stdout",
     "output_type": "stream",
     "text": [
      "Shape all_data: (2917, 78)\n"
     ]
    }
   ],
   "source": [
    "from sklearn.preprocessing import LabelEncoder\n",
    "\n",
    "\n",
    "cols = df_wise_NA.select_dtypes(include='object').columns\n",
    "# import pdb; pdb.set_trace()\n",
    "# process columns, apply LabelEncoder to categorical features\n",
    "for c in cols:\n",
    "    lbl = LabelEncoder() \n",
    "    lbl.fit(list(df_wise_NA[c].values)) \n",
    "    df_wise_NA[c] = lbl.transform(list(df_wise_NA[c].values))\n",
    "\n",
    "print('Shape all_data: {}'.format(df_wise_NA.shape))"
   ]
  },
  {
   "cell_type": "markdown",
   "metadata": {
    "execution": {
     "iopub.execute_input": "2021-10-30T07:10:02.596727Z",
     "iopub.status.busy": "2021-10-30T07:10:02.59642Z",
     "iopub.status.idle": "2021-10-30T07:10:02.602032Z",
     "shell.execute_reply": "2021-10-30T07:10:02.601157Z",
     "shell.execute_reply.started": "2021-10-30T07:10:02.596693Z"
    }
   },
   "source": [
    "由於房價和坪數相關，因此新增一個特徵:面積總和"
   ]
  },
  {
   "cell_type": "code",
   "execution_count": 16,
   "metadata": {
    "execution": {
     "iopub.execute_input": "2021-11-27T05:55:13.282896Z",
     "iopub.status.busy": "2021-11-27T05:55:13.282044Z",
     "iopub.status.idle": "2021-11-27T05:55:13.290114Z",
     "shell.execute_reply": "2021-11-27T05:55:13.289197Z",
     "shell.execute_reply.started": "2021-11-27T05:55:13.282849Z"
    }
   },
   "outputs": [],
   "source": [
    "df_wise_NA['TotalSF'] = df_wise_NA['TotalBsmtSF'] + df_wise_NA['1stFlrSF'] + df_wise_NA['2ndFlrSF']"
   ]
  },
  {
   "cell_type": "markdown",
   "metadata": {},
   "source": [
    "處理特徵的偏度"
   ]
  },
  {
   "cell_type": "markdown",
   "metadata": {},
   "source": [
    "利用Box Cox轉換"
   ]
  },
  {
   "cell_type": "code",
   "execution_count": 17,
   "metadata": {
    "execution": {
     "iopub.execute_input": "2021-11-27T05:55:13.291724Z",
     "iopub.status.busy": "2021-11-27T05:55:13.291417Z",
     "iopub.status.idle": "2021-11-27T05:55:13.305364Z",
     "shell.execute_reply": "2021-11-27T05:55:13.304005Z",
     "shell.execute_reply.started": "2021-11-27T05:55:13.291685Z"
    }
   },
   "outputs": [],
   "source": [
    "def fix_skew(df, ntrain, shew=0.75, lamda = 0.15):\n",
    "    from scipy.stats import norm, skew\n",
    "    from scipy.special import boxcox1p\n",
    "    \n",
    "    numeric_feats = df.dtypes[df.dtypes != \"object\"].index\n",
    "    skewed_feats = df[numeric_feats].apply(lambda x: skew(x.dropna())).sort_values(ascending=False)\n",
    "    print(\"\\n Skew in numerical features: \\n\")\n",
    "    skewness = pd.DataFrame({'Skew' :skewed_feats})\n",
    "    print(skewness.head(10).T)\n",
    "    \n",
    "    skewness = skewness[abs(skewness['Skew'])>shew]\n",
    "    print(\"\\n There are {} skewed numerical features to Box Cox transform\".format(skewness.shape[0]))\n",
    "    \n",
    "    skewed_features = skewness.index\n",
    "    \n",
    "    for feat in skewed_features:\n",
    "        df[feat] = boxcox1p(df[feat], lamda)\n"
   ]
  },
  {
   "cell_type": "code",
   "execution_count": 18,
   "metadata": {
    "execution": {
     "iopub.execute_input": "2021-11-27T05:55:13.306823Z",
     "iopub.status.busy": "2021-11-27T05:55:13.306558Z",
     "iopub.status.idle": "2021-11-27T05:55:13.442547Z",
     "shell.execute_reply": "2021-11-27T05:55:13.441325Z",
     "shell.execute_reply.started": "2021-11-27T05:55:13.306757Z"
    }
   },
   "outputs": [
    {
     "name": "stdout",
     "output_type": "stream",
     "text": [
      "\n",
      " Skew in numerical features: \n",
      "\n",
      "        MiscVal   PoolArea    LotArea  Condition2  LowQualFinSF   Heating  \\\n",
      "Skew  21.939672  17.688664  13.109495   12.340989     12.084539  12.07457   \n",
      "\n",
      "      3SsnPorch  RoofMatl  MiscFeature  LandSlope  \n",
      "Skew   11.37208  8.722755     5.062388   4.973254  \n",
      "\n",
      " There are 49 skewed numerical features to Box Cox transform\n"
     ]
    }
   ],
   "source": [
    "fix_skew(df_wise_NA, ntrain, shew=0.75, lamda = 0.15)"
   ]
  },
  {
   "cell_type": "code",
   "execution_count": 19,
   "metadata": {
    "execution": {
     "iopub.execute_input": "2021-11-27T06:29:03.711407Z",
     "iopub.status.busy": "2021-11-27T06:29:03.711045Z",
     "iopub.status.idle": "2021-11-27T06:29:03.726746Z",
     "shell.execute_reply": "2021-11-27T06:29:03.725888Z",
     "shell.execute_reply.started": "2021-11-27T06:29:03.711368Z"
    }
   },
   "outputs": [
    {
     "name": "stdout",
     "output_type": "stream",
     "text": [
      "(2917, 79)\n"
     ]
    }
   ],
   "source": [
    "#類別轉one-hot\n",
    "df_wise_NA = pd.get_dummies(df_wise_NA)\n",
    "print(df_wise_NA.shape)"
   ]
  },
  {
   "cell_type": "code",
   "execution_count": 20,
   "metadata": {
    "execution": {
     "iopub.execute_input": "2021-11-27T05:55:13.460031Z",
     "iopub.status.busy": "2021-11-27T05:55:13.459758Z",
     "iopub.status.idle": "2021-11-27T05:55:13.465873Z",
     "shell.execute_reply": "2021-11-27T05:55:13.464843Z",
     "shell.execute_reply.started": "2021-11-27T05:55:13.460002Z"
    }
   },
   "outputs": [],
   "source": [
    "train = df_wise_NA[:ntrain]\n",
    "test = df_wise_NA[ntrain:]"
   ]
  },
  {
   "cell_type": "markdown",
   "metadata": {},
   "source": [
    "# 建模"
   ]
  },
  {
   "cell_type": "code",
   "execution_count": 21,
   "metadata": {
    "execution": {
     "iopub.execute_input": "2021-11-27T05:55:13.468155Z",
     "iopub.status.busy": "2021-11-27T05:55:13.467796Z",
     "iopub.status.idle": "2021-11-27T05:55:14.719996Z",
     "shell.execute_reply": "2021-11-27T05:55:14.719077Z",
     "shell.execute_reply.started": "2021-11-27T05:55:13.468111Z"
    }
   },
   "outputs": [],
   "source": [
    "from sklearn.linear_model import ElasticNet, Lasso,  BayesianRidge, LassoLarsIC\n",
    "from sklearn.ensemble import RandomForestRegressor,  GradientBoostingRegressor\n",
    "from sklearn.svm import SVR\n",
    "from sklearn.kernel_ridge import KernelRidge\n",
    "from sklearn.pipeline import make_pipeline\n",
    "from sklearn.preprocessing import RobustScaler\n",
    "from sklearn.base import BaseEstimator, TransformerMixin, RegressorMixin, clone\n",
    "from sklearn.ensemble import VotingRegressor\n",
    "from sklearn.model_selection import KFold, cross_val_score, train_test_split\n",
    "from sklearn.metrics import mean_squared_error\n",
    "import xgboost as xgb\n",
    "import lightgbm as lgb"
   ]
  },
  {
   "cell_type": "markdown",
   "metadata": {},
   "source": [
    "基礎模型"
   ]
  },
  {
   "cell_type": "code",
   "execution_count": 22,
   "metadata": {
    "execution": {
     "iopub.execute_input": "2021-11-27T05:55:14.721638Z",
     "iopub.status.busy": "2021-11-27T05:55:14.721333Z",
     "iopub.status.idle": "2021-11-27T05:55:14.728865Z",
     "shell.execute_reply": "2021-11-27T05:55:14.727841Z",
     "shell.execute_reply.started": "2021-11-27T05:55:14.721607Z"
    }
   },
   "outputs": [],
   "source": [
    "def rmsle_cv(X, y, model, n_folds=5):\n",
    "        kf = KFold(n_folds, shuffle=True, random_state=42).get_n_splits(X.values)\n",
    "        rmse= np.sqrt(-cross_val_score(model, X.values, y, scoring=\"neg_mean_squared_error\", cv = kf))\n",
    "        return(rmse)"
   ]
  },
  {
   "cell_type": "code",
   "execution_count": 23,
   "metadata": {
    "execution": {
     "iopub.execute_input": "2021-11-27T05:55:14.730835Z",
     "iopub.status.busy": "2021-11-27T05:55:14.730357Z",
     "iopub.status.idle": "2021-11-27T05:55:14.743746Z",
     "shell.execute_reply": "2021-11-27T05:55:14.742919Z",
     "shell.execute_reply.started": "2021-11-27T05:55:14.730632Z"
    }
   },
   "outputs": [],
   "source": [
    "def simple_model_test(X, y ,n_folds = 5):\n",
    "    \n",
    "    lasso = make_pipeline(RobustScaler(), Lasso(alpha =0.0005, random_state=1))\n",
    "    ENet = make_pipeline(RobustScaler(), ElasticNet(alpha=0.0005, l1_ratio=.9, random_state=3))\n",
    "    Svr = make_pipeline(RobustScaler(), SVR(kernel='linear', degree=3, C=0.5, epsilon=0.1))\n",
    "    KRR = KernelRidge(alpha=0.6, kernel='polynomial', degree=2, coef0=2.5)\n",
    "    \n",
    "    rf = RandomForestRegressor(n_estimators=1200, max_depth=15, min_samples_split=5,\n",
    "                          min_samples_leaf=5, max_features=None, oob_score=True, random_state=42)\n",
    "\n",
    "    GBoost = GradientBoostingRegressor(n_estimators=3000, learning_rate=0.05,\n",
    "                                   max_depth=4, max_features='sqrt', min_samples_leaf=15, min_samples_split=10, loss='huber', random_state =5)\n",
    "    \n",
    "    VotingR = VotingRegressor(estimators=[('ls', lasso), ('EN', ENet), ('Svr', Svr), ('kr', KRR), ('rf', rf), ('gb', GBoost)])\n",
    "    \n",
    "    \n",
    "    model_xgb = xgb.XGBRegressor(colsample_bytree=0.4603, gamma=0.0468, learning_rate=0.05, max_depth=3, min_child_weight=1.7817, n_estimators=2200,\n",
    "                                 reg_alpha=0.4640, reg_lambda=0.8571, subsample=0.5213, random_state =7, nthread = -1)\n",
    "    model_lgb = lgb.LGBMRegressor(objective='regression',num_leaves=5, learning_rate=0.05, n_estimators=720,\n",
    "                                  max_bin = 55, feature_fraction_seed=9, bagging_seed=9)\n",
    "    \n",
    "    model_list = {'VR':VotingR, 'XGB':model_xgb, 'LGBM':model_lgb}\n",
    "    \n",
    "    for n,m in model_list.items():\n",
    "        score = rmsle_cv(X, y, m, n_folds)\n",
    "        print('\\n{} score: {:.4f} ({:.4f})\\n'.format(n, score.mean(), score.std()))\n",
    "    return VotingR, model_xgb, model_lgb"
   ]
  },
  {
   "cell_type": "code",
   "execution_count": 24,
   "metadata": {
    "execution": {
     "iopub.execute_input": "2021-11-27T05:55:14.745769Z",
     "iopub.status.busy": "2021-11-27T05:55:14.74513Z",
     "iopub.status.idle": "2021-11-27T05:55:14.759451Z",
     "shell.execute_reply": "2021-11-27T05:55:14.758509Z",
     "shell.execute_reply.started": "2021-11-27T05:55:14.745732Z"
    },
    "jupyter": {
     "source_hidden": true
    }
   },
   "outputs": [],
   "source": [
    "class AveragingModels(BaseEstimator, RegressorMixin, TransformerMixin):\n",
    "    def __init__(self, models):\n",
    "        self.models = models\n",
    "        \n",
    "    def fit(self, X, y):\n",
    "        self.models_ = [clone(m) for m in self.models]\n",
    "        \n",
    "        for model in self.models_:\n",
    "            model.fit(X, y)\n",
    "\n",
    "        return self\n",
    "    \n",
    "    def predict(self, X):\n",
    "        predictions = np.column_stack([\n",
    "            model.predict(X) for model in self.models_\n",
    "        ])\n",
    "        return np.mean(predictions, axis=1)   "
   ]
  },
  {
   "cell_type": "code",
   "execution_count": 25,
   "metadata": {
    "execution": {
     "iopub.execute_input": "2021-11-27T05:55:14.763294Z",
     "iopub.status.busy": "2021-11-27T05:55:14.763038Z",
     "iopub.status.idle": "2021-11-27T05:57:50.571803Z",
     "shell.execute_reply": "2021-11-27T05:57:50.571114Z",
     "shell.execute_reply.started": "2021-11-27T05:55:14.763265Z"
    }
   },
   "outputs": [
    {
     "name": "stdout",
     "output_type": "stream",
     "text": [
      "\n",
      "VR score: 0.1147 (0.0065)\n",
      "\n",
      "\n",
      "XGB score: 0.1170 (0.0068)\n",
      "\n",
      "\n",
      "LGBM score: 0.1219 (0.0067)\n",
      "\n"
     ]
    }
   ],
   "source": [
    "VotingR, model_xgb, model_lgb = simple_model_test(train, y_train ,n_folds = 5)"
   ]
  },
  {
   "cell_type": "code",
   "execution_count": 26,
   "metadata": {
    "execution": {
     "iopub.execute_input": "2021-11-27T05:57:50.574027Z",
     "iopub.status.busy": "2021-11-27T05:57:50.573257Z",
     "iopub.status.idle": "2021-11-27T06:00:24.72584Z",
     "shell.execute_reply": "2021-11-27T06:00:24.724551Z",
     "shell.execute_reply.started": "2021-11-27T05:57:50.573979Z"
    }
   },
   "outputs": [
    {
     "name": "stdout",
     "output_type": "stream",
     "text": [
      " Averaged base models score: 0.1141 (0.0065)\n",
      "\n"
     ]
    }
   ],
   "source": [
    "averaged_models = AveragingModels(models = (VotingR, model_xgb, model_lgb))\n",
    "\n",
    "score = rmsle_cv(train, y_train, averaged_models, n_folds = 5)\n",
    "print(\" Averaged base models score: {:.4f} ({:.4f})\\n\".format(score.mean(), score.std()))"
   ]
  },
  {
   "cell_type": "markdown",
   "metadata": {},
   "source": [
    "法2. 增加meta-model\n",
    "在這個方法中，基於基礎模型堆疊上，額外增加了一個meta-model，再利用這些基本模型的外插驗證預測(holdout)去訓練meta-model。"
   ]
  },
  {
   "cell_type": "code",
   "execution_count": 27,
   "metadata": {
    "execution": {
     "iopub.execute_input": "2021-11-27T06:02:39.757132Z",
     "iopub.status.busy": "2021-11-27T06:02:39.75677Z",
     "iopub.status.idle": "2021-11-27T06:02:39.764807Z",
     "shell.execute_reply": "2021-11-27T06:02:39.763693Z",
     "shell.execute_reply.started": "2021-11-27T06:02:39.757095Z"
    }
   },
   "outputs": [],
   "source": [
    "class StackingAveragedModels(BaseEstimator, RegressorMixin, TransformerMixin):\n",
    "    def __init__(self, models):\n",
    "        self.models = models\n",
    "        \n",
    "    # we define clones of the original models to fit the data in\n",
    "    def fit(self, X, y):\n",
    "        self.models_ = [clone(x) for x in self.models]\n",
    "        \n",
    "        # Train cloned base models\n",
    "        for model in self.models_:\n",
    "            model.fit(X, y)\n",
    "\n",
    "        return self\n",
    "    \n",
    "    #Now we do the predictions for cloned models and average them\n",
    "    def predict(self, X):\n",
    "        predictions = np.column_stack([\n",
    "            model.predict(X) for model in self.models_\n",
    "        ])\n",
    "        return np.mean(predictions, axis=1)   "
   ]
  },
  {
   "cell_type": "code",
   "execution_count": 28,
   "metadata": {
    "execution": {
     "iopub.execute_input": "2021-11-27T06:03:14.173972Z",
     "iopub.status.busy": "2021-11-27T06:03:14.173266Z",
     "iopub.status.idle": "2021-11-27T06:05:48.833449Z",
     "shell.execute_reply": "2021-11-27T06:05:48.83247Z",
     "shell.execute_reply.started": "2021-11-27T06:03:14.173919Z"
    }
   },
   "outputs": [
    {
     "name": "stdout",
     "output_type": "stream",
     "text": [
      "Stacking Averaged models score: 0.1141 (0.0065)\n"
     ]
    }
   ],
   "source": [
    "stacked_averaged_models = StackingAveragedModels(models = (VotingR, model_xgb, model_lgb))\n",
    "\n",
    "score = rmsle_cv(train, y_train, averaged_models, n_folds = 5)\n",
    "print(\"Stacking Averaged models score: {:.4f} ({:.4f})\".format(score.mean(), score.std()))"
   ]
  },
  {
   "cell_type": "markdown",
   "metadata": {},
   "source": [
    "Ensembling"
   ]
  },
  {
   "cell_type": "code",
   "execution_count": 29,
   "metadata": {
    "execution": {
     "iopub.execute_input": "2021-11-27T06:05:48.835505Z",
     "iopub.status.busy": "2021-11-27T06:05:48.83527Z",
     "iopub.status.idle": "2021-11-27T06:05:48.840247Z",
     "shell.execute_reply": "2021-11-27T06:05:48.839065Z",
     "shell.execute_reply.started": "2021-11-27T06:05:48.835477Z"
    }
   },
   "outputs": [],
   "source": [
    "def rmsle(y, y_pred):\n",
    "    return np.sqrt(mean_squared_error(y, y_pred))"
   ]
  },
  {
   "cell_type": "code",
   "execution_count": 30,
   "metadata": {
    "execution": {
     "iopub.execute_input": "2021-11-27T06:05:48.841985Z",
     "iopub.status.busy": "2021-11-27T06:05:48.841724Z",
     "iopub.status.idle": "2021-11-27T06:06:27.36896Z",
     "shell.execute_reply": "2021-11-27T06:06:27.368263Z",
     "shell.execute_reply.started": "2021-11-27T06:05:48.841956Z"
    }
   },
   "outputs": [
    {
     "name": "stdout",
     "output_type": "stream",
     "text": [
      "0.07351423435153939\n"
     ]
    }
   ],
   "source": [
    "# StackedRegressor\n",
    "stacked_averaged_models.fit(train.values, y_train)\n",
    "stacked_train_pred = stacked_averaged_models.predict(train.values)\n",
    "stacked_pred = np.expm1(stacked_averaged_models.predict(test.values))\n",
    "print(rmsle(y_train, stacked_train_pred))"
   ]
  },
  {
   "cell_type": "code",
   "execution_count": 31,
   "metadata": {
    "execution": {
     "iopub.execute_input": "2021-11-27T06:06:27.371461Z",
     "iopub.status.busy": "2021-11-27T06:06:27.370793Z",
     "iopub.status.idle": "2021-11-27T06:06:30.848028Z",
     "shell.execute_reply": "2021-11-27T06:06:30.847251Z",
     "shell.execute_reply.started": "2021-11-27T06:06:27.371423Z"
    }
   },
   "outputs": [
    {
     "name": "stdout",
     "output_type": "stream",
     "text": [
      "0.07892872267927793\n"
     ]
    }
   ],
   "source": [
    "#XGBoost\n",
    "model_xgb.fit(train, y_train)\n",
    "xgb_train_pred = model_xgb.predict(train)\n",
    "xgb_pred = np.expm1(model_xgb.predict(test))\n",
    "print(rmsle(y_train, xgb_train_pred))"
   ]
  },
  {
   "cell_type": "code",
   "execution_count": 32,
   "metadata": {
    "execution": {
     "iopub.execute_input": "2021-11-27T06:06:30.850191Z",
     "iopub.status.busy": "2021-11-27T06:06:30.849223Z",
     "iopub.status.idle": "2021-11-27T06:06:31.126915Z",
     "shell.execute_reply": "2021-11-27T06:06:31.12614Z",
     "shell.execute_reply.started": "2021-11-27T06:06:30.850142Z"
    }
   },
   "outputs": [
    {
     "name": "stdout",
     "output_type": "stream",
     "text": [
      "0.0714301344252994\n"
     ]
    }
   ],
   "source": [
    "#LightGBM\n",
    "model_lgb.fit(train, y_train)\n",
    "lgb_train_pred = model_lgb.predict(train)\n",
    "lgb_pred = np.expm1(model_lgb.predict(test.values))\n",
    "print(rmsle(y_train, lgb_train_pred))"
   ]
  },
  {
   "cell_type": "code",
   "execution_count": 33,
   "metadata": {
    "execution": {
     "iopub.execute_input": "2021-11-27T06:06:31.128569Z",
     "iopub.status.busy": "2021-11-27T06:06:31.128081Z",
     "iopub.status.idle": "2021-11-27T06:06:31.136667Z",
     "shell.execute_reply": "2021-11-27T06:06:31.13531Z",
     "shell.execute_reply.started": "2021-11-27T06:06:31.128536Z"
    }
   },
   "outputs": [
    {
     "name": "stdout",
     "output_type": "stream",
     "text": [
      "RMSLE score on train data:\n",
      "0.07325964844423652\n",
      "平均誤差: -947.0755204848329\n"
     ]
    }
   ],
   "source": [
    "print('RMSLE score on train data:')\n",
    "train_pred = stacked_train_pred*0.6 + xgb_train_pred*0.2 + lgb_train_pred*0.2\n",
    "print(rmsle(y_train, train_pred))\n",
    "print('平均誤差:', (np.expm1(train_pred)-np.expm1(y_train)).mean())"
   ]
  },
  {
   "cell_type": "code",
   "execution_count": 34,
   "metadata": {
    "execution": {
     "iopub.execute_input": "2021-11-27T06:06:31.138497Z",
     "iopub.status.busy": "2021-11-27T06:06:31.138228Z",
     "iopub.status.idle": "2021-11-27T06:06:31.153721Z",
     "shell.execute_reply": "2021-11-27T06:06:31.15272Z",
     "shell.execute_reply.started": "2021-11-27T06:06:31.138468Z"
    }
   },
   "outputs": [
    {
     "name": "stdout",
     "output_type": "stream",
     "text": [
      "真實值: 208499.00000000012, 預測值: 203517.98831869988\n"
     ]
    }
   ],
   "source": [
    "sample = 0\n",
    "print('真實值: {}, 預測值: {}'.format(np.expm1(y_train[sample]), np.expm1(train_pred[sample])))"
   ]
  },
  {
   "cell_type": "code",
   "execution_count": 35,
   "metadata": {
    "execution": {
     "iopub.execute_input": "2021-11-27T06:06:31.156057Z",
     "iopub.status.busy": "2021-11-27T06:06:31.155357Z",
     "iopub.status.idle": "2021-11-27T06:06:31.165803Z",
     "shell.execute_reply": "2021-11-27T06:06:31.164972Z",
     "shell.execute_reply.started": "2021-11-27T06:06:31.15601Z"
    }
   },
   "outputs": [],
   "source": [
    "#Ensemble prediction:\n",
    "ensemble = lgb_pred"
   ]
  },
  {
   "cell_type": "code",
   "execution_count": 36,
   "metadata": {
    "execution": {
     "iopub.execute_input": "2021-11-27T06:06:31.170325Z",
     "iopub.status.busy": "2021-11-27T06:06:31.169529Z",
     "iopub.status.idle": "2021-11-27T06:06:31.191746Z",
     "shell.execute_reply": "2021-11-27T06:06:31.191017Z",
     "shell.execute_reply.started": "2021-11-27T06:06:31.170275Z"
    }
   },
   "outputs": [
    {
     "name": "stdout",
     "output_type": "stream",
     "text": [
      "Done\n"
     ]
    }
   ],
   "source": [
    "#Submission\n",
    "sub = pd.DataFrame()\n",
    "sub['Id'] = test_ID\n",
    "sub['SalePrice'] = ensemble\n",
    "sub.to_csv('submission.csv',index=False)\n",
    "print(\"Done\")"
   ]
  },
  {
   "cell_type": "code",
   "execution_count": null,
   "metadata": {},
   "outputs": [],
   "source": []
  },
  {
   "cell_type": "code",
   "execution_count": null,
   "metadata": {},
   "outputs": [],
   "source": []
  },
  {
   "cell_type": "code",
   "execution_count": null,
   "metadata": {},
   "outputs": [],
   "source": []
  },
  {
   "cell_type": "code",
   "execution_count": null,
   "metadata": {},
   "outputs": [],
   "source": []
  }
 ],
 "metadata": {
  "kernelspec": {
   "display_name": "Python 3",
   "language": "python",
   "name": "python3"
  },
  "language_info": {
   "codemirror_mode": {
    "name": "ipython",
    "version": 3
   },
   "file_extension": ".py",
   "mimetype": "text/x-python",
   "name": "python",
   "nbconvert_exporter": "python",
   "pygments_lexer": "ipython3",
   "version": "3.6.8 |Anaconda, Inc.| (default, Feb 21 2019, 18:30:04) [MSC v.1916 64 bit (AMD64)]"
  },
  "vscode": {
   "interpreter": {
    "hash": "7475ef44b120bbde45fa22485e90e847075854f889174c4a791d1ef378fe562c"
   }
  }
 },
 "nbformat": 4,
 "nbformat_minor": 4
}
